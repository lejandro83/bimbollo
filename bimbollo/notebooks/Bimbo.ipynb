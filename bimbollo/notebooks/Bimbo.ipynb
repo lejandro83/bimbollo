{
 "cells": [
  {
   "cell_type": "code",
   "execution_count": 9,
   "metadata": {
    "collapsed": true
   },
   "outputs": [],
   "source": [
    "import pandas as pd\n",
    "import numpy as np\n",
    "%matplotlib inline\n",
    "import matplotlib.pyplot as plt"
   ]
  },
  {
   "cell_type": "code",
   "execution_count": 2,
   "metadata": {
    "collapsed": true
   },
   "outputs": [],
   "source": [
    "data = pd.read_csv('train.csv', nrows=50000)"
   ]
  },
  {
   "cell_type": "code",
   "execution_count": 5,
   "metadata": {
    "collapsed": false
   },
   "outputs": [
    {
     "data": {
      "text/html": [
       "<div>\n",
       "<table border=\"1\" class=\"dataframe\">\n",
       "  <thead>\n",
       "    <tr style=\"text-align: right;\">\n",
       "      <th></th>\n",
       "      <th>Semana</th>\n",
       "      <th>Agencia_ID</th>\n",
       "      <th>Canal_ID</th>\n",
       "      <th>Ruta_SAK</th>\n",
       "      <th>Cliente_ID</th>\n",
       "      <th>Producto_ID</th>\n",
       "      <th>Venta_uni_hoy</th>\n",
       "      <th>Venta_hoy</th>\n",
       "      <th>Dev_uni_proxima</th>\n",
       "      <th>Dev_proxima</th>\n",
       "      <th>Demanda_uni_equil</th>\n",
       "    </tr>\n",
       "  </thead>\n",
       "  <tbody>\n",
       "    <tr>\n",
       "      <th>count</th>\n",
       "      <td>50000.0</td>\n",
       "      <td>50000.000000</td>\n",
       "      <td>50000.000000</td>\n",
       "      <td>50000.000000</td>\n",
       "      <td>5.000000e+04</td>\n",
       "      <td>50000.000000</td>\n",
       "      <td>50000.000000</td>\n",
       "      <td>50000.000000</td>\n",
       "      <td>50000.000000</td>\n",
       "      <td>50000.000000</td>\n",
       "      <td>50000.000000</td>\n",
       "    </tr>\n",
       "    <tr>\n",
       "      <th>mean</th>\n",
       "      <td>3.0</td>\n",
       "      <td>1110.839720</td>\n",
       "      <td>2.023060</td>\n",
       "      <td>1590.024620</td>\n",
       "      <td>1.185439e+06</td>\n",
       "      <td>9832.619320</td>\n",
       "      <td>7.506940</td>\n",
       "      <td>77.683413</td>\n",
       "      <td>0.121760</td>\n",
       "      <td>1.208314</td>\n",
       "      <td>7.459160</td>\n",
       "    </tr>\n",
       "    <tr>\n",
       "      <th>std</th>\n",
       "      <td>0.0</td>\n",
       "      <td>0.366869</td>\n",
       "      <td>2.383351</td>\n",
       "      <td>782.593183</td>\n",
       "      <td>1.535725e+06</td>\n",
       "      <td>15258.624002</td>\n",
       "      <td>25.184054</td>\n",
       "      <td>218.415870</td>\n",
       "      <td>5.626548</td>\n",
       "      <td>24.686499</td>\n",
       "      <td>25.180772</td>\n",
       "    </tr>\n",
       "    <tr>\n",
       "      <th>min</th>\n",
       "      <td>3.0</td>\n",
       "      <td>1110.000000</td>\n",
       "      <td>1.000000</td>\n",
       "      <td>1001.000000</td>\n",
       "      <td>1.407500e+04</td>\n",
       "      <td>72.000000</td>\n",
       "      <td>0.000000</td>\n",
       "      <td>0.000000</td>\n",
       "      <td>0.000000</td>\n",
       "      <td>0.000000</td>\n",
       "      <td>0.000000</td>\n",
       "    </tr>\n",
       "    <tr>\n",
       "      <th>25%</th>\n",
       "      <td>3.0</td>\n",
       "      <td>1111.000000</td>\n",
       "      <td>1.000000</td>\n",
       "      <td>1025.000000</td>\n",
       "      <td>6.160800e+04</td>\n",
       "      <td>1212.000000</td>\n",
       "      <td>2.000000</td>\n",
       "      <td>21.320000</td>\n",
       "      <td>0.000000</td>\n",
       "      <td>0.000000</td>\n",
       "      <td>2.000000</td>\n",
       "    </tr>\n",
       "    <tr>\n",
       "      <th>50%</th>\n",
       "      <td>3.0</td>\n",
       "      <td>1111.000000</td>\n",
       "      <td>1.000000</td>\n",
       "      <td>1407.000000</td>\n",
       "      <td>4.196910e+05</td>\n",
       "      <td>1250.000000</td>\n",
       "      <td>4.000000</td>\n",
       "      <td>41.000000</td>\n",
       "      <td>0.000000</td>\n",
       "      <td>0.000000</td>\n",
       "      <td>4.000000</td>\n",
       "    </tr>\n",
       "    <tr>\n",
       "      <th>75%</th>\n",
       "      <td>3.0</td>\n",
       "      <td>1111.000000</td>\n",
       "      <td>1.000000</td>\n",
       "      <td>1423.000000</td>\n",
       "      <td>1.883449e+06</td>\n",
       "      <td>4910.000000</td>\n",
       "      <td>8.000000</td>\n",
       "      <td>79.280000</td>\n",
       "      <td>0.000000</td>\n",
       "      <td>0.000000</td>\n",
       "      <td>8.000000</td>\n",
       "    </tr>\n",
       "    <tr>\n",
       "      <th>max</th>\n",
       "      <td>3.0</td>\n",
       "      <td>1111.000000</td>\n",
       "      <td>11.000000</td>\n",
       "      <td>3504.000000</td>\n",
       "      <td>9.678222e+06</td>\n",
       "      <td>49994.000000</td>\n",
       "      <td>2000.000000</td>\n",
       "      <td>15561.000000</td>\n",
       "      <td>1008.000000</td>\n",
       "      <td>3030.880000</td>\n",
       "      <td>2000.000000</td>\n",
       "    </tr>\n",
       "  </tbody>\n",
       "</table>\n",
       "</div>"
      ],
      "text/plain": [
       "        Semana    Agencia_ID      Canal_ID      Ruta_SAK    Cliente_ID  \\\n",
       "count  50000.0  50000.000000  50000.000000  50000.000000  5.000000e+04   \n",
       "mean       3.0   1110.839720      2.023060   1590.024620  1.185439e+06   \n",
       "std        0.0      0.366869      2.383351    782.593183  1.535725e+06   \n",
       "min        3.0   1110.000000      1.000000   1001.000000  1.407500e+04   \n",
       "25%        3.0   1111.000000      1.000000   1025.000000  6.160800e+04   \n",
       "50%        3.0   1111.000000      1.000000   1407.000000  4.196910e+05   \n",
       "75%        3.0   1111.000000      1.000000   1423.000000  1.883449e+06   \n",
       "max        3.0   1111.000000     11.000000   3504.000000  9.678222e+06   \n",
       "\n",
       "        Producto_ID  Venta_uni_hoy     Venta_hoy  Dev_uni_proxima  \\\n",
       "count  50000.000000   50000.000000  50000.000000     50000.000000   \n",
       "mean    9832.619320       7.506940     77.683413         0.121760   \n",
       "std    15258.624002      25.184054    218.415870         5.626548   \n",
       "min       72.000000       0.000000      0.000000         0.000000   \n",
       "25%     1212.000000       2.000000     21.320000         0.000000   \n",
       "50%     1250.000000       4.000000     41.000000         0.000000   \n",
       "75%     4910.000000       8.000000     79.280000         0.000000   \n",
       "max    49994.000000    2000.000000  15561.000000      1008.000000   \n",
       "\n",
       "        Dev_proxima  Demanda_uni_equil  \n",
       "count  50000.000000       50000.000000  \n",
       "mean       1.208314           7.459160  \n",
       "std       24.686499          25.180772  \n",
       "min        0.000000           0.000000  \n",
       "25%        0.000000           2.000000  \n",
       "50%        0.000000           4.000000  \n",
       "75%        0.000000           8.000000  \n",
       "max     3030.880000        2000.000000  "
      ]
     },
     "execution_count": 5,
     "metadata": {},
     "output_type": "execute_result"
    }
   ],
   "source": [
    "data.describe(include=\"all\")"
   ]
  },
  {
   "cell_type": "code",
   "execution_count": 6,
   "metadata": {
    "collapsed": false
   },
   "outputs": [
    {
     "data": {
      "text/plain": [
       "1     41986\n",
       "7      6931\n",
       "11      662\n",
       "8       421\n",
       "Name: Canal_ID, dtype: int64"
      ]
     },
     "execution_count": 6,
     "metadata": {},
     "output_type": "execute_result"
    }
   ],
   "source": [
    "data['Canal_ID'].value_counts()"
   ]
  },
  {
   "cell_type": "code",
   "execution_count": 7,
   "metadata": {
    "collapsed": false
   },
   "outputs": [
    {
     "data": {
      "text/plain": [
       "1111    41986\n",
       "1110     8014\n",
       "Name: Agencia_ID, dtype: int64"
      ]
     },
     "execution_count": 7,
     "metadata": {},
     "output_type": "execute_result"
    }
   ],
   "source": [
    "data['Agencia_ID'].value_counts()"
   ]
  },
  {
   "cell_type": "code",
   "execution_count": 17,
   "metadata": {
    "collapsed": false
   },
   "outputs": [
    {
     "data": {
      "text/plain": [
       "<matplotlib.axes._subplots.AxesSubplot at 0x268ec72ccc0>"
      ]
     },
     "execution_count": 17,
     "metadata": {},
     "output_type": "execute_result"
    },
    {
     "data": {
      "image/png": "[encoded data removed]",
      "text/plain": [
       "<matplotlib.figure.Figure at 0x268ec733ac8>"
      ]
     },
     "metadata": {},
     "output_type": "display_data"
    }
   ],
   "source": [
    "data[\"Ruta_SAK\"].hist(bins=50)"
   ]
  },
  {
   "cell_type": "code",
   "execution_count": 22,
   "metadata": {
    "collapsed": false,
    "scrolled": true
   },
   "outputs": [
    {
     "data": {
      "text/plain": [
       "count    50000.000000\n",
       "mean        77.683413\n",
       "std        218.415870\n",
       "min          0.000000\n",
       "25%         21.320000\n",
       "50%         41.000000\n",
       "75%         79.280000\n",
       "max      15561.000000\n",
       "Name: Venta_hoy, dtype: float64"
      ]
     },
     "execution_count": 22,
     "metadata": {},
     "output_type": "execute_result"
    }
   ],
   "source": [
    "data[\"Venta_hoy\"].describe()"
   ]
  },
  {
   "cell_type": "code",
   "execution_count": 23,
   "metadata": {
    "collapsed": true
   },
   "outputs": [],
   "source": []
  }
 ],
 "metadata": {
  "kernelspec": {
   "display_name": "Python 3",
   "language": "python",
   "name": "python3"
  },
  "language_info": {
   "codemirror_mode": {
    "name": "ipython",
    "version": 3
   },
   "file_extension": ".py",
   "mimetype": "text/x-python",
   "name": "python",
   "nbconvert_exporter": "python",
   "pygments_lexer": "ipython3",
   "version": "3.5.1"
  }
 },
 "nbformat": 4,
 "nbformat_minor": 0
}
